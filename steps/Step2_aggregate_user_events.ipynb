{
 "metadata": {
  "language_info": {
   "name": "python"
  }
 },
 "nbformat_minor": 2,
 "nbformat": 4,
 "cells": [
  {
   "cell_type": "code",
   "execution_count": null,
   "metadata": {
    "name": "import_packages",
    "language": "python"
   },
   "outputs": [],
   "source": "import snowflake.snowpark.functions as F\nimport snowflake.snowpark.types as T\n\nfrom snowflake.snowpark.session import Session\nfrom snowflake.snowpark.context import get_active_session\n\n# Misc\nfrom datetime import timedelta\nimport json\nimport logging \nlogger = logging.getLogger(\"snowflake.snowpark.session\")\nlogger.setLevel(logging.ERROR)\n\n\nsession = get_active_session()",
   "id": "ce110000-1111-2222-3333-ffffff000000"
  },
  {
   "cell_type": "code",
   "id": "d972fb14-9487-4817-9309-d2732b7de091",
   "metadata": {
    "language": "python",
    "name": "load_user_events",
    "codeCollapsed": false
   },
   "outputs": [],
   "source": "raw_user_sends = session.table(\"JING_TEST_DB.RAW.USER_SENDS\")\nraw_user_impressions = session.table(\"JING_TEST_DB.RAW.USER_IMPRESSIONS\")\nraw_user_clicks = session.table(\"JING_TEST_DB.RAW.USER_CLICKS\")\nraw_user_purchases = session.table(\"JING_TEST_DB.RAW.USER_PURCHASES\")",
   "execution_count": null
  },
  {
   "cell_type": "code",
   "id": "b29103f9-b8d6-4149-877a-a90226dacc34",
   "metadata": {
    "language": "python",
    "name": "aggregate_events_per_type_per_user",
    "codeCollapsed": false
   },
   "outputs": [],
   "source": "agg_user_sends = (raw_user_sends\n                 .group_by(\"USER_ID\").agg(F.count(\"*\").alias(\"Number_sends\")))\nagg_user_impressions = (raw_user_impressions\n                 .group_by(\"USER_ID\").agg(F.count(\"*\").alias(\"Number_impressions\")))\nagg_user_clicks = (raw_user_clicks\n                 .group_by(\"USER_ID\").agg(F.count(\"*\").alias(\"Number_clicks\")))\nagg_user_purchases = (raw_user_purchases\n                 .group_by(\"USER_ID\").agg(F.count(\"*\").alias(\"Number_purchases\")))\n\n\nagg_user_sends.show(1)\nagg_user_impressions.show(1)\nagg_user_clicks.show(1)\nagg_user_purchases.show(1)",
   "execution_count": null
  },
  {
   "cell_type": "code",
   "id": "154bb03e-33ac-4ee2-90ce-fdc318a82660",
   "metadata": {
    "language": "python",
    "name": "agg_events_per_user",
    "codeCollapsed": false
   },
   "outputs": [],
   "source": "agg_user_events = (agg_user_sends\n                  .join(agg_user_impressions, \"USER_ID\", \"outer\")\n                  .join(agg_user_clicks, \"USER_ID\", \"outer\")\n                  .join(agg_user_purchases, \"USER_ID\", \"outer\"))\n\nagg_user_events.show(100)",
   "execution_count": null
  },
  {
   "cell_type": "code",
   "id": "33ed0fb8-6505-406b-9f3a-7d36867dde18",
   "metadata": {
    "language": "python",
    "name": "write_agg_user_events_to_table",
    "codeCollapsed": false,
    "collapsed": false
   },
   "outputs": [],
   "source": "agg_user_events.write.mode(\"overwrite\").save_as_table(\"JING_TEST_DB.TRANSFORM.AGGREGATED_USER_EVENTS\")",
   "execution_count": null
  },
  {
   "cell_type": "code",
   "id": "853f38d4-5d4f-4a72-be6a-f482558e358b",
   "metadata": {
    "language": "python",
    "name": "check_written_data",
    "collapsed": false
   },
   "outputs": [],
   "source": "load_agg_user_events = session.table(\"JING_TEST_DB.TRANSFORM.AGGREGATED_USER_EVENTS\")\n\nagg_user_events.count(), load_agg_user_events.count()",
   "execution_count": null
  }
 ]
}
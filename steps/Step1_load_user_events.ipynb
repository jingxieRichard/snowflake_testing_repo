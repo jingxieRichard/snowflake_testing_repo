{
 "metadata": {
  "language_info": {
   "name": "python"
  }
 },
 "nbformat_minor": 2,
 "nbformat": 4,
 "cells": [
  {
   "cell_type": "code",
   "execution_count": null,
   "metadata": {
    "name": "Import_packages",
    "language": "python"
   },
   "outputs": [],
   "source": "import snowflake.snowpark.functions as F\nimport snowflake.snowpark.types as T\n\n# We can also use Snowpark for our analyses!\nfrom snowflake.snowpark.context import get_active_session\nsession = get_active_session()\n",
   "id": "ce110000-1111-2222-3333-ffffff000000"
  },
  {
   "cell_type": "code",
   "id": "7c999905-5f21-4767-a572-025ac476eb9e",
   "metadata": {
    "language": "python",
    "name": "load_raw_events",
    "codeCollapsed": false,
    "collapsed": false
   },
   "outputs": [],
   "source": "COLUMNS = [\"USER_ID\", \"TIME\", \"CONTENT_CARD_ID\", \"CAMPAIGN_ID\"]\nraw_user_sends = session.table(\"BRAZE_USER_EVENT_DEMO_DATASET.PUBLIC.USERS_MESSAGES_CONTENTCARD_SEND_VIEW\").select(*COLUMNS)\nraw_user_impressions = session.table(\"BRAZE_USER_EVENT_DEMO_DATASET.PUBLIC.USERS_MESSAGES_CONTENTCARD_IMPRESSION_VIEW\").select(*COLUMNS)\nraw_user_clicks = session.table(\"BRAZE_USER_EVENT_DEMO_DATASET.PUBLIC.USERS_MESSAGES_CONTENTCARD_CLICK_VIEW\").select(*COLUMNS)\n\n# Purchase columns\nPURCHASE_COLUMNS = [\"USER_ID\", \"TIME\", \"PRODUCT_ID\", \"PROPERTIES\"]\nraw_user_purchases = session.table(\"BRAZE_USER_EVENT_DEMO_DATASET.PUBLIC.USERS_BEHAVIORS_PURCHASE_VIEW\").select(*PURCHASE_COLUMNS)",
   "execution_count": null
  },
  {
   "cell_type": "code",
   "id": "81b709cd-38c2-4c22-864f-a09951d39855",
   "metadata": {
    "language": "python",
    "name": "show_raw_event_tables"
   },
   "outputs": [],
   "source": "raw_user_sends.show(1)\nraw_user_impressions.show(1)\nraw_user_clicks.show(1)\nraw_user_purchases.show(1)",
   "execution_count": null
  },
  {
   "cell_type": "code",
   "id": "a04ec6f2-305d-4363-bcc5-7f31198ebda2",
   "metadata": {
    "language": "python",
    "name": "write_to_tables",
    "codeCollapsed": false
   },
   "outputs": [],
   "source": "raw_user_sends.write.mode(\"overwrite\").save_as_table(\"JING_TEST_DB.RAW.USER_SENDS\")\nraw_user_impressions.write.mode(\"overwrite\").save_as_table(\"JING_TEST_DB.RAW.USER_IMPRESSIONS\")\nraw_user_clicks.write.mode(\"overwrite\").save_as_table(\"JING_TEST_DB.RAW.USER_CLICKS\")\nraw_user_purchases.write.mode(\"overwrite\").save_as_table(\"JING_TEST_DB.RAW.USER_PURCHASES\")",
   "execution_count": null
  },
  {
   "cell_type": "code",
   "id": "45fc1fa5-28d6-4f4d-8b13-a035f2cb10da",
   "metadata": {
    "language": "python",
    "name": "verify_data_written",
    "codeCollapsed": false
   },
   "outputs": [],
   "source": "load_raw_sends = session.table(\"JING_TEST_DB.RAW.USER_SENDS\")\nload_raw_impressions = session.table(\"JING_TEST_DB.RAW.USER_IMPRESSIONS\")\nload_raw_clicks = session.table(\"JING_TEST_DB.RAW.USER_CLICKS\")\nload_raw_purchases = session.table(\"JING_TEST_DB.RAW.USER_PURCHASES\")\n\nprint(\"sends: \", raw_user_sends.count(), load_raw_sends.count())\nprint(\"impression: \", raw_user_impressions.count(), load_raw_impressions.count())\nprint(\"clicks: \", raw_user_clicks.count(), load_raw_clicks.count())\nprint(\"purchases: \", raw_user_purchases.count(), load_raw_purchases.count())",
   "execution_count": null
  },
  {
   "cell_type": "code",
   "id": "1a914b07-653f-49c8-bd1e-f70597e7f1c1",
   "metadata": {
    "language": "python",
    "name": "cell1",
    "codeCollapsed": false
   },
   "outputs": [],
   "source": "",
   "execution_count": null
  }
 ]
}